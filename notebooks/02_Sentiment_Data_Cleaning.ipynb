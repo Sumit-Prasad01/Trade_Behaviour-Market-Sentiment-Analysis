{
 "cells": [
  {
   "cell_type": "markdown",
   "id": "35c185fb",
   "metadata": {},
   "source": [
    "## Sentiment(Fear & Greed Data Cleaning)"
   ]
  },
  {
   "cell_type": "code",
   "execution_count": 1,
   "id": "67fc4ee3",
   "metadata": {},
   "outputs": [],
   "source": [
    "import pandas as pd\n",
    "import numpy as np"
   ]
  },
  {
   "cell_type": "markdown",
   "id": "67abd3aa",
   "metadata": {},
   "source": [
    "## Load Dataset"
   ]
  },
  {
   "cell_type": "code",
   "execution_count": 3,
   "id": "f6e9d955",
   "metadata": {},
   "outputs": [],
   "source": [
    "sentiment = pd.read_csv(\n",
    "    '../data/raw/sentiment_data/fear_greed_index.csv',\n",
    "    parse_dates=[\"date\"],\n",
    "    dayfirst=True,\n",
    "    low_memory=False\n",
    ")"
   ]
  },
  {
   "cell_type": "markdown",
   "id": "b8d4845e",
   "metadata": {},
   "source": [
    "## Standardize columns"
   ]
  },
  {
   "cell_type": "code",
   "execution_count": 4,
   "id": "8e31f9d2",
   "metadata": {},
   "outputs": [],
   "source": [
    "sentiment.columns = (\n",
    "    sentiment.columns\n",
    "    .str.strip()\n",
    "    .str.lower()\n",
    "    .str.replace(\" \", \"_\")\n",
    "    .str.replace(r\"[^\\w\\s]\", \"\", regex=True)\n",
    ")"
   ]
  },
  {
   "cell_type": "code",
   "execution_count": 6,
   "id": "e156d046",
   "metadata": {},
   "outputs": [
    {
     "data": {
      "text/html": [
       "<div>\n",
       "<style scoped>\n",
       "    .dataframe tbody tr th:only-of-type {\n",
       "        vertical-align: middle;\n",
       "    }\n",
       "\n",
       "    .dataframe tbody tr th {\n",
       "        vertical-align: top;\n",
       "    }\n",
       "\n",
       "    .dataframe thead th {\n",
       "        text-align: right;\n",
       "    }\n",
       "</style>\n",
       "<table border=\"1\" class=\"dataframe\">\n",
       "  <thead>\n",
       "    <tr style=\"text-align: right;\">\n",
       "      <th></th>\n",
       "      <th>timestamp</th>\n",
       "      <th>value</th>\n",
       "      <th>classification</th>\n",
       "      <th>date</th>\n",
       "    </tr>\n",
       "  </thead>\n",
       "  <tbody>\n",
       "    <tr>\n",
       "      <th>0</th>\n",
       "      <td>2018-02-01 05:30:00+00:00</td>\n",
       "      <td>30</td>\n",
       "      <td>Fear</td>\n",
       "      <td>2018-02-01</td>\n",
       "    </tr>\n",
       "    <tr>\n",
       "      <th>1</th>\n",
       "      <td>2018-02-02 05:30:00+00:00</td>\n",
       "      <td>15</td>\n",
       "      <td>Extreme Fear</td>\n",
       "      <td>2018-02-02</td>\n",
       "    </tr>\n",
       "    <tr>\n",
       "      <th>2</th>\n",
       "      <td>2018-02-03 05:30:00+00:00</td>\n",
       "      <td>40</td>\n",
       "      <td>Fear</td>\n",
       "      <td>2018-02-03</td>\n",
       "    </tr>\n",
       "    <tr>\n",
       "      <th>3</th>\n",
       "      <td>2018-02-04 05:30:00+00:00</td>\n",
       "      <td>24</td>\n",
       "      <td>Extreme Fear</td>\n",
       "      <td>2018-02-04</td>\n",
       "    </tr>\n",
       "    <tr>\n",
       "      <th>4</th>\n",
       "      <td>2018-02-05 05:30:00+00:00</td>\n",
       "      <td>11</td>\n",
       "      <td>Extreme Fear</td>\n",
       "      <td>2018-02-05</td>\n",
       "    </tr>\n",
       "  </tbody>\n",
       "</table>\n",
       "</div>"
      ],
      "text/plain": [
       "                  timestamp  value classification        date\n",
       "0 2018-02-01 05:30:00+00:00     30           Fear  2018-02-01\n",
       "1 2018-02-02 05:30:00+00:00     15   Extreme Fear  2018-02-02\n",
       "2 2018-02-03 05:30:00+00:00     40           Fear  2018-02-03\n",
       "3 2018-02-04 05:30:00+00:00     24   Extreme Fear  2018-02-04\n",
       "4 2018-02-05 05:30:00+00:00     11   Extreme Fear  2018-02-05"
      ]
     },
     "execution_count": 6,
     "metadata": {},
     "output_type": "execute_result"
    }
   ],
   "source": [
    "sentiment.head()"
   ]
  },
  {
   "cell_type": "markdown",
   "id": "eb990d50",
   "metadata": {},
   "source": [
    "## Convert UNIX timestamp → UTC datetime"
   ]
  },
  {
   "cell_type": "code",
   "execution_count": 5,
   "id": "56541497",
   "metadata": {},
   "outputs": [],
   "source": [
    "sentiment[\"timestamp\"] = pd.to_datetime(sentiment[\"timestamp\"], unit=\"s\", utc=True)"
   ]
  },
  {
   "cell_type": "markdown",
   "id": "c9866b7d",
   "metadata": {},
   "source": [
    "## Ensure numeric"
   ]
  },
  {
   "cell_type": "code",
   "execution_count": 7,
   "id": "b7035d85",
   "metadata": {},
   "outputs": [],
   "source": [
    "sentiment['value'] = pd.to_numeric(sentiment['value'], errors=\"coerce\")"
   ]
  },
  {
   "cell_type": "markdown",
   "id": "f3a894d0",
   "metadata": {},
   "source": [
    "## Standardize classification"
   ]
  },
  {
   "cell_type": "code",
   "execution_count": 8,
   "id": "b8038066",
   "metadata": {},
   "outputs": [],
   "source": [
    "sentiment['classification'] = sentiment['classification'].str.strip().str.title()"
   ]
  },
  {
   "cell_type": "markdown",
   "id": "46786246",
   "metadata": {},
   "source": [
    "## Check Duplicates"
   ]
  },
  {
   "cell_type": "code",
   "execution_count": 9,
   "id": "1c49b7a6",
   "metadata": {},
   "outputs": [
    {
     "name": "stdout",
     "output_type": "stream",
     "text": [
      "timestamp : 0 duplicates\n",
      "value : 2554 duplicates\n",
      "classification : 2639 duplicates\n",
      "date : 0 duplicates\n"
     ]
    }
   ],
   "source": [
    "for col in sentiment.columns:\n",
    "    print(f\"{col} : {sentiment[col].duplicated().sum()} duplicates\")"
   ]
  },
  {
   "cell_type": "markdown",
   "id": "25594f45",
   "metadata": {},
   "source": [
    "## Check for unique values"
   ]
  },
  {
   "cell_type": "code",
   "execution_count": 11,
   "id": "271f8744",
   "metadata": {},
   "outputs": [
    {
     "name": "stdout",
     "output_type": "stream",
     "text": [
      "timestamp : 2644 uniques.\n",
      "value : 90 uniques.\n",
      "classification : 5 uniques.\n",
      "date : 2644 uniques.\n"
     ]
    }
   ],
   "source": [
    "for col in sentiment.columns:\n",
    "    print(f\"{col} : {sentiment[col].nunique()} uniques.\")"
   ]
  },
  {
   "cell_type": "markdown",
   "id": "75175de6",
   "metadata": {},
   "source": [
    "## Check for Null/Missing values"
   ]
  },
  {
   "cell_type": "code",
   "execution_count": 14,
   "id": "1eb3c765",
   "metadata": {},
   "outputs": [
    {
     "data": {
      "text/plain": [
       "timestamp         0\n",
       "value             0\n",
       "classification    0\n",
       "date              0\n",
       "dtype: int64"
      ]
     },
     "execution_count": 14,
     "metadata": {},
     "output_type": "execute_result"
    }
   ],
   "source": [
    "sentiment.isna().sum()"
   ]
  },
  {
   "cell_type": "markdown",
   "id": "3ca6eb2f",
   "metadata": {},
   "source": [
    "## Sort & forward fill missing days"
   ]
  },
  {
   "cell_type": "code",
   "execution_count": 13,
   "id": "c0dcb3f0",
   "metadata": {},
   "outputs": [],
   "source": [
    "sentiment = sentiment.sort_values(\"date\").ffill()"
   ]
  },
  {
   "cell_type": "code",
   "execution_count": 15,
   "id": "2f2dbb5b",
   "metadata": {},
   "outputs": [
    {
     "data": {
      "text/html": [
       "<div>\n",
       "<style scoped>\n",
       "    .dataframe tbody tr th:only-of-type {\n",
       "        vertical-align: middle;\n",
       "    }\n",
       "\n",
       "    .dataframe tbody tr th {\n",
       "        vertical-align: top;\n",
       "    }\n",
       "\n",
       "    .dataframe thead th {\n",
       "        text-align: right;\n",
       "    }\n",
       "</style>\n",
       "<table border=\"1\" class=\"dataframe\">\n",
       "  <thead>\n",
       "    <tr style=\"text-align: right;\">\n",
       "      <th></th>\n",
       "      <th>timestamp</th>\n",
       "      <th>value</th>\n",
       "      <th>classification</th>\n",
       "      <th>date</th>\n",
       "    </tr>\n",
       "  </thead>\n",
       "  <tbody>\n",
       "    <tr>\n",
       "      <th>0</th>\n",
       "      <td>2018-02-01 05:30:00+00:00</td>\n",
       "      <td>30</td>\n",
       "      <td>Fear</td>\n",
       "      <td>2018-02-01</td>\n",
       "    </tr>\n",
       "    <tr>\n",
       "      <th>1</th>\n",
       "      <td>2018-02-02 05:30:00+00:00</td>\n",
       "      <td>15</td>\n",
       "      <td>Extreme Fear</td>\n",
       "      <td>2018-02-02</td>\n",
       "    </tr>\n",
       "    <tr>\n",
       "      <th>2</th>\n",
       "      <td>2018-02-03 05:30:00+00:00</td>\n",
       "      <td>40</td>\n",
       "      <td>Fear</td>\n",
       "      <td>2018-02-03</td>\n",
       "    </tr>\n",
       "    <tr>\n",
       "      <th>3</th>\n",
       "      <td>2018-02-04 05:30:00+00:00</td>\n",
       "      <td>24</td>\n",
       "      <td>Extreme Fear</td>\n",
       "      <td>2018-02-04</td>\n",
       "    </tr>\n",
       "    <tr>\n",
       "      <th>4</th>\n",
       "      <td>2018-02-05 05:30:00+00:00</td>\n",
       "      <td>11</td>\n",
       "      <td>Extreme Fear</td>\n",
       "      <td>2018-02-05</td>\n",
       "    </tr>\n",
       "    <tr>\n",
       "      <th>...</th>\n",
       "      <td>...</td>\n",
       "      <td>...</td>\n",
       "      <td>...</td>\n",
       "      <td>...</td>\n",
       "    </tr>\n",
       "    <tr>\n",
       "      <th>2639</th>\n",
       "      <td>2025-04-28 05:30:00+00:00</td>\n",
       "      <td>54</td>\n",
       "      <td>Neutral</td>\n",
       "      <td>2025-04-28</td>\n",
       "    </tr>\n",
       "    <tr>\n",
       "      <th>2640</th>\n",
       "      <td>2025-04-29 05:30:00+00:00</td>\n",
       "      <td>60</td>\n",
       "      <td>Greed</td>\n",
       "      <td>2025-04-29</td>\n",
       "    </tr>\n",
       "    <tr>\n",
       "      <th>2641</th>\n",
       "      <td>2025-04-30 05:30:00+00:00</td>\n",
       "      <td>56</td>\n",
       "      <td>Greed</td>\n",
       "      <td>2025-04-30</td>\n",
       "    </tr>\n",
       "    <tr>\n",
       "      <th>2642</th>\n",
       "      <td>2025-05-01 05:30:00+00:00</td>\n",
       "      <td>53</td>\n",
       "      <td>Neutral</td>\n",
       "      <td>2025-05-01</td>\n",
       "    </tr>\n",
       "    <tr>\n",
       "      <th>2643</th>\n",
       "      <td>2025-05-02 05:30:00+00:00</td>\n",
       "      <td>67</td>\n",
       "      <td>Greed</td>\n",
       "      <td>2025-05-02</td>\n",
       "    </tr>\n",
       "  </tbody>\n",
       "</table>\n",
       "<p>2644 rows × 4 columns</p>\n",
       "</div>"
      ],
      "text/plain": [
       "                     timestamp  value classification        date\n",
       "0    2018-02-01 05:30:00+00:00     30           Fear  2018-02-01\n",
       "1    2018-02-02 05:30:00+00:00     15   Extreme Fear  2018-02-02\n",
       "2    2018-02-03 05:30:00+00:00     40           Fear  2018-02-03\n",
       "3    2018-02-04 05:30:00+00:00     24   Extreme Fear  2018-02-04\n",
       "4    2018-02-05 05:30:00+00:00     11   Extreme Fear  2018-02-05\n",
       "...                        ...    ...            ...         ...\n",
       "2639 2025-04-28 05:30:00+00:00     54        Neutral  2025-04-28\n",
       "2640 2025-04-29 05:30:00+00:00     60          Greed  2025-04-29\n",
       "2641 2025-04-30 05:30:00+00:00     56          Greed  2025-04-30\n",
       "2642 2025-05-01 05:30:00+00:00     53        Neutral  2025-05-01\n",
       "2643 2025-05-02 05:30:00+00:00     67          Greed  2025-05-02\n",
       "\n",
       "[2644 rows x 4 columns]"
      ]
     },
     "execution_count": 15,
     "metadata": {},
     "output_type": "execute_result"
    }
   ],
   "source": [
    "sentiment"
   ]
  },
  {
   "cell_type": "markdown",
   "id": "553eb03d",
   "metadata": {},
   "source": [
    "# Map classification → score"
   ]
  },
  {
   "cell_type": "code",
   "execution_count": 16,
   "id": "4f08d5ca",
   "metadata": {},
   "outputs": [],
   "source": [
    "mapping = {\n",
    "    \"Extreme Fear\": 0,\n",
    "    \"Fear\": 25,\n",
    "    \"Neutral\": 50,\n",
    "    \"Greed\": 75,\n",
    "    \"Extreme Greed\": 100\n",
    "}"
   ]
  },
  {
   "cell_type": "code",
   "execution_count": 17,
   "id": "8189b006",
   "metadata": {},
   "outputs": [],
   "source": [
    "sentiment[\"sentiment_score\"] = sentiment[\"classification\"].map(mapping)"
   ]
  },
  {
   "cell_type": "code",
   "execution_count": 18,
   "id": "8128062f",
   "metadata": {},
   "outputs": [
    {
     "data": {
      "text/html": [
       "<div>\n",
       "<style scoped>\n",
       "    .dataframe tbody tr th:only-of-type {\n",
       "        vertical-align: middle;\n",
       "    }\n",
       "\n",
       "    .dataframe tbody tr th {\n",
       "        vertical-align: top;\n",
       "    }\n",
       "\n",
       "    .dataframe thead th {\n",
       "        text-align: right;\n",
       "    }\n",
       "</style>\n",
       "<table border=\"1\" class=\"dataframe\">\n",
       "  <thead>\n",
       "    <tr style=\"text-align: right;\">\n",
       "      <th></th>\n",
       "      <th>timestamp</th>\n",
       "      <th>value</th>\n",
       "      <th>classification</th>\n",
       "      <th>date</th>\n",
       "      <th>sentiment_score</th>\n",
       "    </tr>\n",
       "  </thead>\n",
       "  <tbody>\n",
       "    <tr>\n",
       "      <th>0</th>\n",
       "      <td>2018-02-01 05:30:00+00:00</td>\n",
       "      <td>30</td>\n",
       "      <td>Fear</td>\n",
       "      <td>2018-02-01</td>\n",
       "      <td>25</td>\n",
       "    </tr>\n",
       "    <tr>\n",
       "      <th>1</th>\n",
       "      <td>2018-02-02 05:30:00+00:00</td>\n",
       "      <td>15</td>\n",
       "      <td>Extreme Fear</td>\n",
       "      <td>2018-02-02</td>\n",
       "      <td>0</td>\n",
       "    </tr>\n",
       "    <tr>\n",
       "      <th>2</th>\n",
       "      <td>2018-02-03 05:30:00+00:00</td>\n",
       "      <td>40</td>\n",
       "      <td>Fear</td>\n",
       "      <td>2018-02-03</td>\n",
       "      <td>25</td>\n",
       "    </tr>\n",
       "    <tr>\n",
       "      <th>3</th>\n",
       "      <td>2018-02-04 05:30:00+00:00</td>\n",
       "      <td>24</td>\n",
       "      <td>Extreme Fear</td>\n",
       "      <td>2018-02-04</td>\n",
       "      <td>0</td>\n",
       "    </tr>\n",
       "    <tr>\n",
       "      <th>4</th>\n",
       "      <td>2018-02-05 05:30:00+00:00</td>\n",
       "      <td>11</td>\n",
       "      <td>Extreme Fear</td>\n",
       "      <td>2018-02-05</td>\n",
       "      <td>0</td>\n",
       "    </tr>\n",
       "    <tr>\n",
       "      <th>...</th>\n",
       "      <td>...</td>\n",
       "      <td>...</td>\n",
       "      <td>...</td>\n",
       "      <td>...</td>\n",
       "      <td>...</td>\n",
       "    </tr>\n",
       "    <tr>\n",
       "      <th>2639</th>\n",
       "      <td>2025-04-28 05:30:00+00:00</td>\n",
       "      <td>54</td>\n",
       "      <td>Neutral</td>\n",
       "      <td>2025-04-28</td>\n",
       "      <td>50</td>\n",
       "    </tr>\n",
       "    <tr>\n",
       "      <th>2640</th>\n",
       "      <td>2025-04-29 05:30:00+00:00</td>\n",
       "      <td>60</td>\n",
       "      <td>Greed</td>\n",
       "      <td>2025-04-29</td>\n",
       "      <td>75</td>\n",
       "    </tr>\n",
       "    <tr>\n",
       "      <th>2641</th>\n",
       "      <td>2025-04-30 05:30:00+00:00</td>\n",
       "      <td>56</td>\n",
       "      <td>Greed</td>\n",
       "      <td>2025-04-30</td>\n",
       "      <td>75</td>\n",
       "    </tr>\n",
       "    <tr>\n",
       "      <th>2642</th>\n",
       "      <td>2025-05-01 05:30:00+00:00</td>\n",
       "      <td>53</td>\n",
       "      <td>Neutral</td>\n",
       "      <td>2025-05-01</td>\n",
       "      <td>50</td>\n",
       "    </tr>\n",
       "    <tr>\n",
       "      <th>2643</th>\n",
       "      <td>2025-05-02 05:30:00+00:00</td>\n",
       "      <td>67</td>\n",
       "      <td>Greed</td>\n",
       "      <td>2025-05-02</td>\n",
       "      <td>75</td>\n",
       "    </tr>\n",
       "  </tbody>\n",
       "</table>\n",
       "<p>2644 rows × 5 columns</p>\n",
       "</div>"
      ],
      "text/plain": [
       "                     timestamp  value classification        date  \\\n",
       "0    2018-02-01 05:30:00+00:00     30           Fear  2018-02-01   \n",
       "1    2018-02-02 05:30:00+00:00     15   Extreme Fear  2018-02-02   \n",
       "2    2018-02-03 05:30:00+00:00     40           Fear  2018-02-03   \n",
       "3    2018-02-04 05:30:00+00:00     24   Extreme Fear  2018-02-04   \n",
       "4    2018-02-05 05:30:00+00:00     11   Extreme Fear  2018-02-05   \n",
       "...                        ...    ...            ...         ...   \n",
       "2639 2025-04-28 05:30:00+00:00     54        Neutral  2025-04-28   \n",
       "2640 2025-04-29 05:30:00+00:00     60          Greed  2025-04-29   \n",
       "2641 2025-04-30 05:30:00+00:00     56          Greed  2025-04-30   \n",
       "2642 2025-05-01 05:30:00+00:00     53        Neutral  2025-05-01   \n",
       "2643 2025-05-02 05:30:00+00:00     67          Greed  2025-05-02   \n",
       "\n",
       "      sentiment_score  \n",
       "0                  25  \n",
       "1                   0  \n",
       "2                  25  \n",
       "3                   0  \n",
       "4                   0  \n",
       "...               ...  \n",
       "2639               50  \n",
       "2640               75  \n",
       "2641               75  \n",
       "2642               50  \n",
       "2643               75  \n",
       "\n",
       "[2644 rows x 5 columns]"
      ]
     },
     "execution_count": 18,
     "metadata": {},
     "output_type": "execute_result"
    }
   ],
   "source": [
    "sentiment"
   ]
  },
  {
   "cell_type": "markdown",
   "id": "889673da",
   "metadata": {},
   "source": [
    "## Save cleaned sentiment"
   ]
  },
  {
   "cell_type": "code",
   "execution_count": 19,
   "id": "edb3ace1",
   "metadata": {},
   "outputs": [],
   "source": [
    "\n",
    "sentiment.to_csv(\"../data/preprocessed/sentiment_data/sentiment_clean.csv\", index=False)"
   ]
  }
 ],
 "metadata": {
  "kernelspec": {
   "display_name": ".venv",
   "language": "python",
   "name": "python3"
  },
  "language_info": {
   "codemirror_mode": {
    "name": "ipython",
    "version": 3
   },
   "file_extension": ".py",
   "mimetype": "text/x-python",
   "name": "python",
   "nbconvert_exporter": "python",
   "pygments_lexer": "ipython3",
   "version": "3.12.4"
  }
 },
 "nbformat": 4,
 "nbformat_minor": 5
}
